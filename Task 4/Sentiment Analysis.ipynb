{
 "cells": [
  {
   "cell_type": "code",
   "execution_count": 3,
   "id": "0d38fe6a",
   "metadata": {},
   "outputs": [
    {
     "name": "stdout",
     "output_type": "stream",
     "text": [
      "Collecting torch"
     ]
    },
    {
     "name": "stderr",
     "output_type": "stream",
     "text": [
      "  WARNING: The scripts convert-caffe2-to-onnx.exe, convert-onnx-to-caffe2.exe and torchrun.exe are installed in 'C:\\Users\\tr4\\AppData\\Roaming\\Python\\Python38\\Scripts' which is not on PATH."
     ]
    },
    {
     "name": "stdout",
     "output_type": "stream",
     "text": [
      "\n",
      "  Using cached torch-2.3.1-cp38-cp38-win_amd64.whl (159.8 MB)\n",
      "Collecting torchvision\n",
      "  Using cached torchvision-0.18.1-cp38-cp38-win_amd64.whl (1.2 MB)\n",
      "Collecting torchaudio\n",
      "  Using cached torchaudio-2.3.1-cp38-cp38-win_amd64.whl (2.4 MB)\n",
      "Requirement already satisfied: networkx in c:\\programdata\\anaconda3-2021.05\\lib\\site-packages (from torch) (2.5)\n",
      "Collecting mkl<=2021.4.0,>=2021.1.1\n",
      "  Using cached mkl-2021.4.0-py2.py3-none-win_amd64.whl (228.5 MB)\n",
      "Requirement already satisfied: sympy in c:\\programdata\\anaconda3-2021.05\\lib\\site-packages (from torch) (1.8)\n",
      "Collecting typing-extensions>=4.8.0\n",
      "  Using cached typing_extensions-4.12.2-py3-none-any.whl (37 kB)\n",
      "Requirement already satisfied: jinja2 in c:\\programdata\\anaconda3-2021.05\\lib\\site-packages (from torch) (2.11.3)\n",
      "Requirement already satisfied: filelock in c:\\programdata\\anaconda3-2021.05\\lib\\site-packages (from torch) (3.0.12)\n",
      "Requirement already satisfied: fsspec in c:\\users\\tr4\\appdata\\roaming\\python\\python38\\site-packages (from torch) (2024.6.0)\n",
      "Requirement already satisfied: tbb==2021.* in c:\\programdata\\anaconda3-2021.05\\lib\\site-packages (from mkl<=2021.4.0,>=2021.1.1->torch) (2021.13.0)\n",
      "Collecting intel-openmp==2021.*\n",
      "  Using cached intel_openmp-2021.4.0-py2.py3-none-win_amd64.whl (3.5 MB)\n",
      "Requirement already satisfied: numpy in c:\\users\\tr4\\appdata\\roaming\\python\\python38\\site-packages (from torchvision) (1.23.0)\n",
      "Requirement already satisfied: pillow!=8.3.*,>=5.3.0 in c:\\users\\tr4\\appdata\\roaming\\python\\python38\\site-packages (from torchvision) (10.3.0)\n",
      "Requirement already satisfied: MarkupSafe>=0.23 in c:\\programdata\\anaconda3-2021.05\\lib\\site-packages (from jinja2->torch) (1.1.1)\n",
      "Requirement already satisfied: decorator>=4.3.0 in c:\\programdata\\anaconda3-2021.05\\lib\\site-packages (from networkx->torch) (5.0.6)\n",
      "Requirement already satisfied: mpmath>=0.19 in c:\\programdata\\anaconda3-2021.05\\lib\\site-packages (from sympy->torch) (1.2.1)\n",
      "Installing collected packages: intel-openmp, typing-extensions, mkl, torch, torchvision, torchaudio\n",
      "Successfully installed intel-openmp-2021.4.0 mkl-2021.4.0 torch-2.3.1 torchaudio-2.3.1 torchvision-0.18.1 typing-extensions-4.12.2\n"
     ]
    },
    {
     "name": "stderr",
     "output_type": "stream",
     "text": [
      "\n",
      "  Consider adding this directory to PATH or, if you prefer to suppress this warning, use --no-warn-script-location.\n",
      "ERROR: pip's dependency resolver does not currently take into account all the packages that are installed. This behaviour is the source of the following dependency conflicts.\n",
      "tensorflow-intel 2.13.0 requires typing-extensions<4.6.0,>=3.6.6, but you have typing-extensions 4.12.2 which is incompatible.\n"
     ]
    }
   ],
   "source": [
    "!pip3 install torch torchvision torchaudio --user"
   ]
  },
  {
   "cell_type": "code",
   "execution_count": 2,
   "id": "f791bc7f",
   "metadata": {},
   "outputs": [
    {
     "name": "stdout",
     "output_type": "stream",
     "text": [
      "Requirement already satisfied: transformers in c:\\users\\tr4\\appdata\\roaming\\python\\python38\\site-packages (4.41.2)\n",
      "Requirement already satisfied: requests in c:\\programdata\\anaconda3-2021.05\\lib\\site-packages (2.25.1)\n",
      "Requirement already satisfied: beautifulsoup4 in c:\\programdata\\anaconda3-2021.05\\lib\\site-packages (4.9.3)\n",
      "Requirement already satisfied: pandas in c:\\programdata\\anaconda3-2021.05\\lib\\site-packages (1.2.4)\n",
      "Requirement already satisfied: numpy in c:\\users\\tr4\\appdata\\roaming\\python\\python38\\site-packages (1.23.0)\n",
      "Requirement already satisfied: soupsieve>1.2 in c:\\programdata\\anaconda3-2021.05\\lib\\site-packages (from beautifulsoup4) (2.2.1)\n",
      "Requirement already satisfied: python-dateutil>=2.7.3 in c:\\programdata\\anaconda3-2021.05\\lib\\site-packages (from pandas) (2.8.1)\n",
      "Requirement already satisfied: pytz>=2017.3 in c:\\programdata\\anaconda3-2021.05\\lib\\site-packages (from pandas) (2021.1)\n",
      "Requirement already satisfied: six>=1.5 in c:\\programdata\\anaconda3-2021.05\\lib\\site-packages (from python-dateutil>=2.7.3->pandas) (1.15.0)\n",
      "Requirement already satisfied: certifi>=2017.4.17 in c:\\users\\tr4\\appdata\\roaming\\python\\python38\\site-packages (from requests) (2024.6.2)\n",
      "Requirement already satisfied: chardet<5,>=3.0.2 in c:\\users\\tr4\\appdata\\roaming\\python\\python38\\site-packages (from requests) (3.0.4)\n",
      "Requirement already satisfied: idna<3,>=2.5 in c:\\programdata\\anaconda3-2021.05\\lib\\site-packages (from requests) (2.10)\n",
      "Requirement already satisfied: urllib3<1.27,>=1.21.1 in c:\\programdata\\anaconda3-2021.05\\lib\\site-packages (from requests) (1.26.4)\n",
      "Requirement already satisfied: filelock in c:\\programdata\\anaconda3-2021.05\\lib\\site-packages (from transformers) (3.0.12)\n",
      "Requirement already satisfied: huggingface-hub<1.0,>=0.23.0 in c:\\users\\tr4\\appdata\\roaming\\python\\python38\\site-packages (from transformers) (0.23.3)\n",
      "Requirement already satisfied: pyyaml>=5.1 in c:\\programdata\\anaconda3-2021.05\\lib\\site-packages (from transformers) (5.4.1)\n",
      "Requirement already satisfied: packaging>=20.0 in c:\\users\\tr4\\appdata\\roaming\\python\\python38\\site-packages (from transformers) (24.1)\n",
      "Requirement already satisfied: regex!=2019.12.17 in c:\\programdata\\anaconda3-2021.05\\lib\\site-packages (from transformers) (2021.4.4)\n",
      "Requirement already satisfied: safetensors>=0.4.1 in c:\\users\\tr4\\appdata\\roaming\\python\\python38\\site-packages (from transformers) (0.4.3)\n",
      "Requirement already satisfied: tokenizers<0.20,>=0.19 in c:\\users\\tr4\\appdata\\roaming\\python\\python38\\site-packages (from transformers) (0.19.1)\n",
      "Requirement already satisfied: tqdm>=4.27 in c:\\programdata\\anaconda3-2021.05\\lib\\site-packages (from transformers) (4.59.0)\n",
      "Requirement already satisfied: fsspec>=2023.5.0 in c:\\users\\tr4\\appdata\\roaming\\python\\python38\\site-packages (from huggingface-hub<1.0,>=0.23.0->transformers) (2024.6.0)\n",
      "Requirement already satisfied: typing-extensions>=3.7.4.3 in c:\\programdata\\anaconda3-2021.05\\lib\\site-packages (from huggingface-hub<1.0,>=0.23.0->transformers) (3.7.4.3)\n"
     ]
    }
   ],
   "source": [
    "!pip install transformers requests beautifulsoup4 pandas numpy"
   ]
  },
  {
   "cell_type": "code",
   "execution_count": null,
   "id": "6d43b484",
   "metadata": {},
   "outputs": [],
   "source": []
  }
 ],
 "metadata": {
  "kernelspec": {
   "display_name": "Python 3",
   "language": "python",
   "name": "python3"
  },
  "language_info": {
   "codemirror_mode": {
    "name": "ipython",
    "version": 3
   },
   "file_extension": ".py",
   "mimetype": "text/x-python",
   "name": "python",
   "nbconvert_exporter": "python",
   "pygments_lexer": "ipython3",
   "version": "3.8.8"
  }
 },
 "nbformat": 4,
 "nbformat_minor": 5
}
